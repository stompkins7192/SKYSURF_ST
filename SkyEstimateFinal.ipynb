{
 "cells": [
  {
   "cell_type": "code",
   "execution_count": 66,
   "metadata": {},
   "outputs": [],
   "source": [
    "%matplotlib inline\n",
    "\n",
    "import numpy as np\n",
    "\n",
    "\n",
    "import matplotlib.pyplot as plt\n",
    "import seaborn as sns\n",
    "#import required packages\n",
    "\n"
   ]
  },
  {
   "cell_type": "code",
   "execution_count": 67,
   "metadata": {},
   "outputs": [
    {
     "name": "stdout",
     "output_type": "stream",
     "text": [
      "144\n",
      "144\n",
      "144\n",
      "len nums = 144\n",
      "144\n",
      "original value = 0.78547588232787\n",
      "improved value= 0.786157320578336\n",
      "actual value= 0.785398163397448\n"
     ]
    }
   ],
   "source": [
    "sky = np.loadtxt('CR_Removal_Good.txt')\n",
    "print(len(sky)) #Should be 144 entries in length\n",
    "type(sky) #np.loadtxt outputs a numpy array\n",
    "\n",
    "skyold = np.loadtxt('bestskyestsofar.txt')\n",
    "print(len(skyold)) #Should be 144 entries in length\n",
    "\n",
    "h = open('final_images_data.txt', 'r') \n",
    "with open('final_images_data.txt') as h:\n",
    "    lines = h.readlines()   #Convert every line in the image datafile to a string and\n",
    "    #place into a list\n",
    "#############OPEN TEXT FILES^^^\n",
    "#############      \n",
    "\n",
    "nums = []\n",
    "linecount = 0\n",
    "# Extract charactes from index a to b\n",
    "for x in lines:\n",
    "    if linecount == 0:\n",
    "        linecount += 1\n",
    "        continue\n",
    "    nums.append(float(x[105:122]))\n",
    "    \n",
    "    linecount += 1\n",
    "    \n",
    "    \n",
    "#print(nums)\n",
    "print(len(nums)) #Should be 144x Long In This Case\n",
    "nums=np.array(nums) #Convert to numpy array\n",
    "\n",
    "###### FOR RAPID TESTING PURPOSES\n",
    "\n",
    "\n",
    "#nums = nums[0:121:1]\n",
    "print('len nums =', len(nums))\n",
    "print(len(sky))\n",
    "#skyold = skyold[0:121:1]\n",
    "print('original value =',skyold[1])\n",
    "print('improved value=', sky[1])\n",
    "print('actual value=',nums[1])\n",
    "#print(nums) #Check to see you you are receiving the correct values"
   ]
  },
  {
   "cell_type": "code",
   "execution_count": null,
   "metadata": {},
   "outputs": [],
   "source": []
  },
  {
   "cell_type": "code",
   "execution_count": 68,
   "metadata": {},
   "outputs": [
    {
     "name": "stdout",
     "output_type": "stream",
     "text": [
      "0.785398163397448\n",
      "0.786157320578336\n"
     ]
    }
   ],
   "source": [
    "#Examples Of What Each Array Contains\n",
    "\n",
    "print(nums[1]) #Input sky value read as string and converted to float\n",
    "\n",
    "print(sky[1]) #Measured sky value read directly from text file\n",
    "\n"
   ]
  },
  {
   "cell_type": "code",
   "execution_count": 69,
   "metadata": {},
   "outputs": [
    {
     "name": "stdout",
     "output_type": "stream",
     "text": [
      "144\n",
      "Maximum Error = -0.0013646898765781244\n",
      "Position of Maximum Error = 11\n",
      "Minimum Error = -0.22368671226758907\n",
      "Position of Minimum Error = 0\n",
      "0.629723995781889\n"
     ]
    }
   ],
   "source": [
    "\n",
    "y = (((nums - sky)/nums)*100)  #Create a y values array and assign\n",
    "z = (((nums - skyold)/nums)*100)\n",
    "# the y values to the array\n",
    "print(len(y)) #Make sure length is preserved\n",
    "\n",
    "print('Maximum Error =' ,y[np.argmax(y)])\n",
    "print('Position of Maximum Error =', np.argmax(y))\n",
    "####\n",
    "\n",
    "print('Minimum Error =',y[np.argmin(y)])\n",
    "print('Position of Minimum Error =', np.argmin(y))\n",
    "print(sky[0])"
   ]
  },
  {
   "cell_type": "code",
   "execution_count": 70,
   "metadata": {},
   "outputs": [
    {
     "name": "stdout",
     "output_type": "stream",
     "text": [
      "144\n",
      "0.2648893554191\n",
      "144\n"
     ]
    }
   ],
   "source": [
    "rms = []\n",
    "linecount = 0\n",
    "# Extract charactes from index a to b\n",
    "for x in lines:\n",
    "    if linecount == 0:\n",
    "        linecount += 1\n",
    "        continue\n",
    "    rms.append(float(x[127:141]))\n",
    "    \n",
    "    linecount += 1\n",
    "\n",
    "    \n",
    "#Repeat the same string to float extraction process to get given RMS values\n",
    "print(len(rms)) #check length\n",
    "rms=np.array(rms) #Convert to numpy array\n",
    "print(rms[0]) #check value\n",
    "\n",
    "#FOR RAPID TESTING\n",
    "\n",
    "#rms = rms[0:121:1]\n",
    "print(len(nums))"
   ]
  },
  {
   "cell_type": "code",
   "execution_count": 71,
   "metadata": {},
   "outputs": [
    {
     "name": "stdout",
     "output_type": "stream",
     "text": [
      "144\n",
      "Mean % Error = -0.030586467626928033\n"
     ]
    }
   ],
   "source": [
    "#Create and check x values array\n",
    "x = rms\n",
    "print(len(x))\n",
    "\n",
    "#Print the mean error as an easier way to interpert the plot below and \n",
    "#whether it has improved\n",
    "print('Mean % Error =',np.mean(y))"
   ]
  },
  {
   "cell_type": "code",
   "execution_count": 72,
   "metadata": {
    "scrolled": true
   },
   "outputs": [
    {
     "data": {
      "text/plain": [
       "Text(0.5, 1.0, 'Images With Cosmic Rays No Gradient')"
      ]
     },
     "execution_count": 72,
     "metadata": {},
     "output_type": "execute_result"
    },
    {
     "data": {
      "image/png": "[encoded data removed]",
      "text/plain": [
       "<Figure size 720x720 with 1 Axes>"
      ]
     },
     "metadata": {
      "needs_background": "light"
     },
     "output_type": "display_data"
    }
   ],
   "source": [
    "#Plot the values on a scatter plot\n",
    "import matplotlib.pyplot as plt\n",
    "\n",
    "\n",
    "plt.figure(figsize=(10, 10))\n",
    "plt.tick_params(labelsize=14);\n",
    "plt.tick_params(labeltop=True, labelright=True)\n",
    "plt.scatter(x,y,color='k',marker=\"2\",s=55, label=\"New Measurements\")\n",
    "plt.scatter(x,z,color='r',marker=\"2\",s=55, label=\"Old Mesaurements\")\n",
    "plt.ylim(-.3,.3)\n",
    "\n",
    "plt.xlim(0,.4)\n",
    "plt.axhline(np.mean(y), label=\"Mean Value\")\n",
    "plt.axhline(0, label=\"Zero\")\n",
    "plt.legend()\n",
    "plt.ylabel(\"(Input Sky - Measured Sky / Input Sky)*100\", fontsize=14)\n",
    "plt.xlabel(\"Input Sky RMS Noise\", fontsize=14)\n",
    "\n",
    "\n",
    "plt.title(\"Images With Cosmic Rays No Gradient\", fontsize=14)\n",
    "#plt.savefig('CR_Removal.png')  #Uncomment to save the figure if you wish\n",
    "\n",
    "#BEST MEASUREMENT MADE USING\n",
    "# SKY = profoundProFound(image$imDat, verbose=FALSE, skycut = 1.5, pixcut = 4, \n",
    "                       #  SBdilate = 2, doclip = TRUE, redosky= TRUE, redoskysize= 13, \n",
    "                      #   type = 'bicubic', skytype='median', redosegim=TRUE,\n",
    "\n",
    "\n",
    "#Read Worst Image image=readFITS(system.file(\"extdata\", 'images_crs/image_1.fits', package=\"ProFound\"))"
   ]
  },
  {
   "cell_type": "code",
   "execution_count": null,
   "metadata": {},
   "outputs": [],
   "source": []
  },
  {
   "cell_type": "markdown",
   "metadata": {},
   "source": [
    "The gradient image plot is created below in mulitple steps, it could be optimized"
   ]
  },
  {
   "cell_type": "code",
   "execution_count": 483,
   "metadata": {},
   "outputs": [
    {
     "name": "stdout",
     "output_type": "stream",
     "text": [
      "240\n"
     ]
    }
   ],
   "source": [
    "j = open('grad_exptime_images_data.txt', 'r') \n",
    "with open('grad_exptime_images_data.txt') as j:\n",
    "    lines = j.readlines() #Open given datafile and repeat list of lines process\n",
    "\n",
    "    \n",
    "\n",
    "vals = []\n",
    "linecount = 0\n",
    "# Extract charactes from index a to b\n",
    "for x in lines:\n",
    "    if linecount == 0:\n",
    "        linecount += 1\n",
    "        continue\n",
    "    vals.append(float(x[81:89])) #Same as before, string to float conversion, append\n",
    "    \n",
    "    linecount += 1\n",
    "\n",
    "    \n",
    "\n",
    "print(len(vals)) #Should be length of 25, this set is Delondrae's gradient images\n",
    "vals=np.array(vals) #Convert to numpy array\n",
    "#print(vals) #check to see if correct"
   ]
  },
  {
   "cell_type": "code",
   "execution_count": 484,
   "metadata": {},
   "outputs": [
    {
     "name": "stdout",
     "output_type": "stream",
     "text": [
      "240\n"
     ]
    }
   ],
   "source": [
    "calcsky = []\n",
    "linecount = 0\n",
    "# Extract charactes from index a to b\n",
    "for x in lines:\n",
    "    if linecount == 0:\n",
    "        linecount += 1\n",
    "        continue\n",
    "    calcsky.append(float(x[105:123])) #Extracting sky values\n",
    "    \n",
    "    linecount += 1\n",
    "\n",
    "    \n",
    "print(len(calcsky)) #Should again be of length 25\n",
    "calcsky=np.array(calcsky)\n",
    "#print(calcsky[0]) #check "
   ]
  },
  {
   "cell_type": "code",
   "execution_count": 485,
   "metadata": {},
   "outputs": [
    {
     "name": "stdout",
     "output_type": "stream",
     "text": [
      "240\n"
     ]
    }
   ],
   "source": [
    "skygrad = np.loadtxt('CR_Removal_Gradient.txt') #Load, extract, and assign calculated sky values\n",
    "print(len(skygrad)) #Should be of length 25\n",
    "#type(skygrad)\n",
    "#print(skygrad)"
   ]
  },
  {
   "cell_type": "code",
   "execution_count": 486,
   "metadata": {},
   "outputs": [
    {
     "name": "stdout",
     "output_type": "stream",
     "text": [
      "240\n"
     ]
    }
   ],
   "source": [
    "#Assign x and y values, respectively\n",
    "w = (vals)\n",
    "v = (((calcsky - skygrad)/calcsky)*100)\n",
    "print(len(w)) #check length\n"
   ]
  },
  {
   "cell_type": "code",
   "execution_count": 487,
   "metadata": {},
   "outputs": [
    {
     "name": "stdout",
     "output_type": "stream",
     "text": [
      "50\n",
      "50\n",
      "50\n",
      "50\n",
      "1.6812622230580023\n"
     ]
    }
   ],
   "source": [
    "#Repeat everything for Haley's set of gradient images\n",
    "\n",
    "ha = open('simulated_images_data_CRgrad.txt', 'r') \n",
    "with open('simulated_images_data_CRgrad.txt') as ha:\n",
    "    lines = ha.readlines()\n",
    "skyHa = []\n",
    "linecount = 0\n",
    "# Extract charactes from index a to b\n",
    "for x in lines:\n",
    "    if linecount == 0:\n",
    "        linecount += 1\n",
    "        continue\n",
    "    skyHa.append(float(x[80:86]))\n",
    "    linecount += 1\n",
    "\n",
    "    \n",
    "\n",
    "print(len(skyHa)) #Should be length 50\n",
    "skyHa=np.array(skyHa) #create given sky values array\n",
    "#print(skyHa[1:10]) #check\n",
    "\n",
    "skychange = []\n",
    "linecount = 0\n",
    "# Extract charactes from index a to b\n",
    "for x in lines:\n",
    "    if linecount == 0:\n",
    "        linecount += 1\n",
    "        continue\n",
    "    skychange.append(float(x[48:54]))\n",
    "    \n",
    "    linecount += 1\n",
    "\n",
    "    \n",
    "\n",
    "print(len(skychange))\n",
    "skychange=np.array(skychange)\n",
    "#print(skychange)\n",
    "\n",
    "skygradH = np.loadtxt('bestgradhaley.txt')\n",
    "print(len(skygradH))\n",
    "type(skygradH)\n",
    "#print(skygradH)\n",
    "\n",
    "q = []\n",
    "r = []\n",
    "q = (skyHa)\n",
    "r = (((skyHa - skygradH)/skyHa)*100)\n",
    "\n",
    "print(len(r))\n",
    "print(r[2])"
   ]
  },
  {
   "cell_type": "code",
   "execution_count": 488,
   "metadata": {},
   "outputs": [
    {
     "name": "stdout",
     "output_type": "stream",
     "text": [
      "290\n"
     ]
    }
   ],
   "source": [
    "#Combine both datasets into one array for plotting\n",
    "\n",
    "gradchange = np.concatenate((w, q))\n",
    "gradsky = np.concatenate((v, r)) \n",
    "print(len(gradsky)) #Check length, should be 75"
   ]
  },
  {
   "cell_type": "code",
   "execution_count": 489,
   "metadata": {},
   "outputs": [
    {
     "data": {
      "text/plain": [
       "Text(0.5, 1.0, 'Images With Cosmic Rays and Gradient')"
      ]
     },
     "execution_count": 489,
     "metadata": {},
     "output_type": "execute_result"
    },
    {
     "data": {
      "image/png": "[encoded data removed]",
      "text/plain": [
       "<Figure size 576x576 with 1 Axes>"
      ]
     },
     "metadata": {
      "needs_background": "light"
     },
     "output_type": "display_data"
    }
   ],
   "source": [
    "plt.rcParams[\"figure.figsize\"]=10,10\n",
    "\n",
    "#Plot both datasets, with the legend tellng us Delondrae's images in red/\n",
    "#Haley's in blue\n",
    "\n",
    "plt.figure(figsize=(8, 8))\n",
    "plt.tick_params(labelsize=14);\n",
    "plt.tick_params(labeltop=True, labelright=True);\n",
    "plt.scatter(w,v,color='r',marker=\"2\",s=55)\n",
    "#plt.scatter(q,r,color='b',marker=\"2\",s=55)\n",
    "\n",
    "plt.ylabel(\"(Input Sky - Measured Sky / Input Sky)*100\", fontsize=14)\n",
    "plt.xlabel(\"Percent Change in Sky\", fontsize=14)\n",
    "\n",
    "plt.title(\"Images With Cosmic Rays and Gradient\", fontsize=14)\n",
    "#plt.legend(\"DH\")\n",
    "#plt.savefig('Gradient_Images_Best.png')"
   ]
  },
  {
   "cell_type": "code",
   "execution_count": 482,
   "metadata": {},
   "outputs": [
    {
     "data": {
      "text/plain": [
       "Text(0.5, 1.0, 'Images With Cosmic Rays and Gradient')"
      ]
     },
     "execution_count": 482,
     "metadata": {},
     "output_type": "execute_result"
    },
    {
     "data": {
      "image/png": "[encoded data removed]",
      "text/plain": [
       "<Figure size 720x720 with 1 Axes>"
      ]
     },
     "metadata": {
      "needs_background": "light"
     },
     "output_type": "display_data"
    }
   ],
   "source": [
    "#Combining the two simply ivolves calling the combined arrays\n",
    "\n",
    "plt.rcParams[\"figure.figsize\"]=10,10\n",
    "\n",
    "#Plot both datasets, with the legend tellng us Delondrae's images in red/\n",
    "#Haley's in blue\n",
    "plt.tick_params(labeltop=True, labelright=True);\n",
    "plt.scatter(gradchange,gradsky,color='k',marker=\"2\",s=55)\n",
    "plt.ylabel(\"(Input Sky - Measured Sky / Input Sky)*100\", fontsize=14)\n",
    "plt.xlabel(\"Percent Change in Sky\", fontsize = 14)\n",
    "plt.title(\"Images With Cosmic Rays and Gradient\", fontsize = 14)\n",
    "#plt.savefig('Gradient_Images_Combined.png')"
   ]
  },
  {
   "cell_type": "markdown",
   "metadata": {},
   "source": [
    "If you have any questions about things not running or how things work, ask me. I showed this program to a computer science grad student (my brother) and he was visibly disturbed so it can obviously be improved to be easier to use (IE incorporate functions, possibly less loops?). Suggestions welcome!\n"
   ]
  },
  {
   "cell_type": "code",
   "execution_count": null,
   "metadata": {},
   "outputs": [],
   "source": []
  }
 ],
 "metadata": {
  "kernelspec": {
   "display_name": "Python 3",
   "language": "python",
   "name": "python3"
  },
  "language_info": {
   "codemirror_mode": {
    "name": "ipython",
    "version": 3
   },
   "file_extension": ".py",
   "mimetype": "text/x-python",
   "name": "python",
   "nbconvert_exporter": "python",
   "pygments_lexer": "ipython3",
   "version": "3.7.4"
  }
 },
 "nbformat": 4,
 "nbformat_minor": 2
}
